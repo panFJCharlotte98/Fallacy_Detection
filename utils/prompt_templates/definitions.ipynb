{
 "cells": [
  {
   "cell_type": "code",
   "execution_count": 7,
   "id": "310c209c-1a5e-46b4-9ec6-2e9f25a24805",
   "metadata": {},
   "outputs": [],
   "source": [
    "informal_dict = {\n",
    "    'Black-and-White Fallacy': 'Force a conclusion by offering/implying an incomplete list (usually two) of options, while in fact there are more.',\n",
    "     'Causal Oversimplification': 'Assume a single cause or reaspon when there were actually multiple ones.',\n",
    "     'Attack/Question Credibility': 'Question the credibility of someone or something.',\n",
    "     'Exaggeration or Minimization': 'Represent something in a more excessive manner than it really is.',\n",
    "     'Appeal to Fear or Prejudice': 'Use fear, not based on evidence or reason, as the primary motivator to get others to accept an idea, proposition, or conclusion.',\n",
    "     'Flag-Waving': 'Use undue benefit for a group/nation/country (e.g. patriotism or nationalism) to justify an action.',\n",
    "     'Appeal to False Authority': 'Use an alledged (not-quite-authority) authority as evidence to justify a claim.',\n",
    "     'Loaded Language': 'Instead of facts and eviding, use words that stir up emotion to manipulate others into accepting a claim.',\n",
    "     'Name Calling': 'Use insulting/demeaning label to attack an individual or group.',\n",
    "     'Red Herring': 'Redirect the attention from the argument to another issue.',\n",
    "     'Reductio Ad Hitlerum': 'Make an argument analogous with Hitler or the Nazi party in order to degenerate it.',\n",
    "     'Slogans': 'Use catchy/compelling language in a claim instead of providing reasons (if it sounds good or looks good, it must be right)',\n",
    "     'Strawman': 'Subtitute a person’s actual argument with a distoted, exaggerated, or misinterpresented version.',\n",
    "     'Thought-terminating Cliches': 'Statements that are commonly used to shut people down. They intends to stop an argument from proceeding further and ending the debate with a cliche instead of trying to solve the problem.',\n",
    "     'Whataboutism': 'Respond to an accusation of wrongdoing by claiming that an offense committed by another is similar or worse.',\n",
    "     'Appeal to Emotion': 'Provoke emotion in place of reason in attempt to win the argument.',\n",
    "     'Ad Hominem': 'Attack the person instead of the argument.',\n",
    "     'Slippery Slope': 'Argue that an insignificant action will lead to a chain of more significant action to reject it, while the connection between such events is unwarrented or improbable.',\n",
    "     'False Causality': 'Falsely assume that one thing cause another to happen, based solely on the fact that one came before the other.',\n",
    "     'Repetition': 'Repeating an argument without providing better supporting evidence.',\n",
    "     'Bandwagon': 'Argue that something is true because a lot of people believe in it.',\n",
    "     'Obfuscation': 'Use confused languages to disguise the arguement.',\n",
    "     'Intentional Vagueness': 'Use an unclear phrase with multiple definitions in argument.',\n",
    "     'Confusion': ''\n",
    "}\n",
    "logical_dict = {\n",
    "     'Black-and-White Fallacy': 'Either X or Y is true.',\n",
    "     'Causal Oversimplification': 'X occurred after Y. Therefore, Y caused X (although X was also a result of A,B,C... etc.)',\n",
    "     'Attack/Question Credibility': '',\n",
    "     'Exaggeration or Minimization': '',\n",
    "     'Appeal to Fear or Prejudice': 'If you don’t accept X as true, something terrible will happen to you. Therefore, X must be true.',\n",
    "     'Flag-Waving': '',\n",
    "     'Appeal to False Authority': 'According to person 1 (who offers little or no expertise on Y being true), Y is true. Therefore, Y is true.',\n",
    "     'Loaded Language': 'Person A claims that X is true. Person A uses very powerful and emotive language in the claim. Therefore, X is true.',\n",
    "     'Name Calling': 'Person A claims that X is true. Person A is label with a degenerate name. Therefore, X is false.',\n",
    "     'Red Herring': 'Argument A is presented by person 1. Person 2 introduces argument B. Argument A is abandoned.',\n",
    "     'Reductio Ad Hitlerum': 'Person 1 suggests that Y is true. Person 1’s rhetoric sounds like Hitler’s. Therefore, Y is false.',\n",
    "     'Slogans': '',\n",
    "     'Strawman': 'Person 1 makes claim Y. Person 2 restates person 1’s claim (in a distorted way). Person 2 attacks the distorted version of the claim. Therefore, claim Y is false.',\n",
    "     'Thought-terminating Cliches': 'Person 1 makes argument on topic Y. Person 2 stops Y from proceeding further. Y is abandoned.',\n",
    "     'Whataboutism': 'Person 1 attacks Y1. Person 2 claims that Y2 is worse than Y1. Therefore, Y1 is not bad.',\n",
    "     'Appeal to Emotion': 'Claim X is made without evidence. In place of evidence, emotion is used to convince the interlocutor that X is true.',\n",
    "     'Ad Hominem': 'Person 1 is claiming Y. Person 1 is a moron. Therefore, Y is not true.',\n",
    "     'Slippery Slope': 'If A occurs, then A1 will occur, then A2 will occur, etc. then bad thing will occur.',\n",
    "     'False Causality': 'A occurred, then B occurred. Therefore, A caused B.',\n",
    "     'Repetition': 'X is true. X is true. X is true. X is true. X is true. X is true... etc.',\n",
    "     'Bandwagon': 'A lot of people believe in X. Therefore, X must be true.',\n",
    "     'Obfuscation': 'Person 1 presents claim A in a way that it sounds like B.',\n",
    "     'Intentional Vagueness': 'Term X is used to mean Y in the premise. Term X is used to mean Z in the conclusion.',\n",
    "     'Confusion': ''\n",
    "}"
   ]
  },
  {
   "cell_type": "code",
   "execution_count": null,
   "id": "cf2bc182-85f0-49fe-8ca3-fd97b0976b4a",
   "metadata": {},
   "outputs": [],
   "source": []
  }
 ],
 "metadata": {
  "kernelspec": {
   "display_name": "Python 3 (ipykernel)",
   "language": "python",
   "name": "python3"
  },
  "language_info": {
   "codemirror_mode": {
    "name": "ipython",
    "version": 3
   },
   "file_extension": ".py",
   "mimetype": "text/x-python",
   "name": "python",
   "nbconvert_exporter": "python",
   "pygments_lexer": "ipython3",
   "version": "3.11.9"
  }
 },
 "nbformat": 4,
 "nbformat_minor": 5
}

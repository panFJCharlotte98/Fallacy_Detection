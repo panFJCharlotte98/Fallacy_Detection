{
 "cells": [
  {
   "cell_type": "code",
   "execution_count": 7,
   "metadata": {},
   "outputs": [
    {
     "name": "stdout",
     "output_type": "stream",
     "text": [
      "raw article :['US bloggers banned from entering UK\\n', '\\n', 'Two prominent US bloggers have been banned from entering the UK, the Home Office has said.\\n', '\\n', 'Pamela Geller and Robert Spencer co-founded anti-Muslim group Stop Islamization of America.\\n', '\\n', 'They were due to speak at an English Defence League march in Woolwich, where Drummer Lee Rigby was killed.\\n', '\\n', 'A government spokesman said individuals whose presence \"is not conducive to the public good\" could be excluded by the home secretary.\\n', '\\n', 'He added: \"We condemn all those whose behaviours and views run counter to our shared values and will not stand for extremism in any form.\"\\n', '\\n', \"'Right decision'\\n\", 'Ms Geller, of the Atlas Shrugs blog, and Mr Spencer, of Jihad Watch, are also co-founders of the American Freedom Defense Initiative, best known for a pro-Israel \"Defeat Jihad\" poster campaign on the New York subway.\\n', 'On both of their blogs the pair called their bans from entering the UK \"a striking blow against freedom\" and said the \"the nation that gave the world the Magna Carta is dead\".\\n', '\\n', 'They were due to attend a march planned by the far-right EDL to mark Armed Forces Day on 29 June, ending in Woolwich, south east London, where soldier Drummer Rigby was murdered last month.\\n', '\\n', 'Keith Vaz, chairman of the Home Affairs Select Committee, who had called for the bloggers to be banned from the UK, said: \"I welcome the home secretary\\'s ban on Pamela Geller and Robert Spencer from entering the country.\\n', 'This is the right decision.\\n', 'The UK should never become a stage for inflammatory speakers who promote hate.\"\\n', '\\n', 'EDL leader Tommy Robinson, meanwhile, criticised the decision and said Ms Geller and Mr Spencer were coming to the UK to lay flowers at the place where Drummer Rigby died.\\n', '\\n', '\"It\\'s embarrassing for this so-called land of democracy and freedom of speech,\" he said.\\n', '\\n', '\"How many hate preachers are living in this country?\\n', 'It just shows what sort of a two-tier system we have here.\"\\n', '\\n', \"'Foster hatred'\\n\", 'Anti-fascism campaigners Hope Not Hate had campaigned for the pair to not be allowed into the UK.\\n', '\\n', 'A researcher with the organisation, Matthew Collins, said it was \"delighted\" with the decision.\\n', '\\n', '\"These two are among some of the most extreme anti-Muslim activists in the world.\\n', \"They've nothing to contribute to life in this country.\\n\", '\\n', '\"They\\'re not here to contribute to good community relations.\\n', 'They only wanted to come here and help the EDL stir up more trouble.\\n', 'Britain doesn\\'t need more hate even just for a few days.\"\\n', '\\n', 'Mr Spencer put up a copy of what appears to be the exclusion decision from the Home Office on the Jihad Watch website, while Ms Geller posted a copy of her letter on her website, Atlas Shrugs.\\n', '\\n', 'The letters, both dated Tuesday, claim that both activists have fallen within the scope of a list of unacceptable behaviours by making statements which may \"foster hatred\" and lead to \"inter-community violence\" in the UK.\\n', '\\n', 'Both letters gave examples of anti-Muslim views stated by both and went on to say that should they be allowed to enter the UK the home secretary believes they would \"continue to espouse such views\".\\n']\n",
      "one text with a propaganda technique: Stop Islamization of America. | Stop Islamization of America.\n",
      "desired preprocessed text format:{'text': 'Pamela Geller and Robert Spencer co-founded anti-Muslim group Stop Islamization of America.', 'pre-text': 'Two prominent US bloggers have been banned from entering the UK, the Home Office has said.', 'post-text': 'They were due to speak at an English Defence League march in Woolwich, where Drummer Lee Rigby was killed.'}\n"
     ]
    }
   ],
   "source": [
    "with open('article111111112.txt') as f:\n",
    "    lines = f.readlines() # read lines into a list\n",
    "    f.close()\n",
    "one_str = open('article111111112.txt','r').read() # directly read to a string\n",
    "\n",
    "print(f\"raw article :{lines}\")\n",
    "# if return a list\n",
    "text = \"\".join(lines)[191:222].strip()\n",
    "# if return a string\n",
    "text_ = one_str[191:222].strip()\n",
    "print(f\"one text with a propaganda technique: {text} | {text_}\")\n",
    "\n",
    "context = {}\n",
    "lines = [l.strip() for l in lines if l != \"\\n\"]\n",
    "for i, l in enumerate(lines):\n",
    "    if text in l:\n",
    "        context['text'] = l\n",
    "        if (i != 0):\n",
    "            context['pre-text'] = lines[i-1]\n",
    "        if (i != (len(lines)-1)):\n",
    "            context['post-text'] = lines[i+1]\n",
    "        break\n",
    "print(f\"desired preprocessed text format:{context}\")"
   ]
  },
  {
   "cell_type": "code",
   "execution_count": 4,
   "metadata": {},
   "outputs": [
    {
     "data": {
      "text/plain": [
       "'Stop Islamization of America.\\n\\n'"
      ]
     },
     "execution_count": 4,
     "metadata": {},
     "output_type": "execute_result"
    }
   ],
   "source": []
  }
 ],
 "metadata": {
  "kernelspec": {
   "display_name": "phd",
   "language": "python",
   "name": "python3"
  },
  "language_info": {
   "codemirror_mode": {
    "name": "ipython",
    "version": 3
   },
   "file_extension": ".py",
   "mimetype": "text/x-python",
   "name": "python",
   "nbconvert_exporter": "python",
   "pygments_lexer": "ipython3",
   "version": "3.11.8"
  }
 },
 "nbformat": 4,
 "nbformat_minor": 2
}

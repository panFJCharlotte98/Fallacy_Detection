{
 "cells": [
  {
   "cell_type": "code",
   "execution_count": 1,
   "metadata": {},
   "outputs": [
    {
     "name": "stdout",
     "output_type": "stream",
     "text": [
      "train: A total of 1849 examples.\n",
      "label\n",
      "[Faulty Generalization]                             319\n",
      "[Ad Hominem]                                        225\n",
      "[False Causality (Post Hoc Fallacy)]                174\n",
      "[Ad Populum]                                        158\n",
      "[Circular Reasoning]                                134\n",
      "[Appeal to Emotion]                                 130\n",
      "[Fallacy of Converse (Affirming the Consequent)]    121\n",
      "[Red Herring]                                       114\n",
      "[Intentional (Intentionally Wrong Argument)]        112\n",
      "[False Dilemma]                                     110\n",
      "[Doubt Credibility]                                 107\n",
      "[Straw Man]                                         106\n",
      "[Equivocation]                                       39\n",
      "Name: count, dtype: int64\n",
      "\n",
      "dev: A total of 300 examples.\n",
      "label\n",
      "[Faulty Generalization]                             61\n",
      "[Ad Populum]                                        44\n",
      "[Ad Hominem]                                        36\n",
      "[False Causality (Post Hoc Fallacy)]                24\n",
      "[Red Herring]                                       24\n",
      "[False Dilemma]                                     19\n",
      "[Circular Reasoning]                                18\n",
      "[Fallacy of Converse (Affirming the Consequent)]    17\n",
      "[Intentional (Intentionally Wrong Argument)]        16\n",
      "[Appeal to Emotion]                                 14\n",
      "[Straw Man]                                         14\n",
      "[Doubt Credibility]                                  8\n",
      "[Equivocation]                                       5\n",
      "Name: count, dtype: int64\n",
      "\n",
      "test: A total of 300 examples.\n",
      "label\n",
      "[Faulty Generalization]                             61\n",
      "[Ad Hominem]                                        41\n",
      "[Ad Populum]                                        30\n",
      "[Red Herring]                                       24\n",
      "[Appeal to Emotion]                                 23\n",
      "[Straw Man]                                         21\n",
      "[Circular Reasoning]                                19\n",
      "[False Causality (Post Hoc Fallacy)]                18\n",
      "[Doubt Credibility]                                 17\n",
      "[Intentional (Intentionally Wrong Argument)]        15\n",
      "[Fallacy of Converse (Affirming the Consequent)]    14\n",
      "[False Dilemma]                                     12\n",
      "[Equivocation]                                       5\n",
      "Name: count, dtype: int64\n",
      "\n"
     ]
    }
   ],
   "source": [
    "import pandas as pd\n",
    "import json\n",
    "import regex\n",
    "import os\n",
    "def preprocess_logic(input_paths):\n",
    "    os.makedirs('./new_data', exist_ok=True)\n",
    "    label_map = {\n",
    "        \"faulty generalization\" : \"Faulty Generalization\",\n",
    "        \"appeal to emotion\": \"Appeal to Emotion\",\n",
    "        \"ad hominem\": \"Ad Hominem\",\n",
    "        \"fallacy of relevance\": \"Red Herring\",\n",
    "        \"false causality\" : \"False Causality (Post Hoc Fallacy)\",\n",
    "        \"circular reasoning\" : \"Circular Reasoning\",\n",
    "        \"ad populum\": \"Ad Populum\",\n",
    "        \"fallacy of logic\": \"Fallacy of Converse (Affirming the Consequent)\",\n",
    "        \"false dilemma\": \"False Dilemma\",\n",
    "        \"equivocation\": \"Equivocation\",\n",
    "        \"fallacy of extension\": \"Straw Man\",\n",
    "        \"fallacy of credibility\" : \"Doubt Credibility\",\n",
    "        \"intentional\": \"Intentional (Intentionally Wrong Argument)\"\n",
    "    }\n",
    "    for input_path in input_paths:\n",
    "        split = input_path.split(\".\")[1].split(\"_\")[-1]\n",
    "        df = pd.read_csv(input_path, on_bad_lines='skip')\n",
    "        df = df.drop(df[(df['source_article'].isna()) | (df['updated_label'].isna())].index)\n",
    "        df = df.reset_index(drop=True)\n",
    "        df['id'] = df.index\n",
    "        df = df[['id','source_article', 'updated_label']]\n",
    "        df['text'] = df['source_article'].apply(lambda x: \" \".join(x.strip().replace(\"\\u2019\", \"'\").encode('ascii', errors='ignore').strip().decode('ascii').replace('\"\"\"', '').split()))\n",
    "        df['label'] = df['updated_label'].apply(lambda x: [label_map[x]])\n",
    "        \n",
    "        df = df.drop(columns=['source_article', 'updated_label'])\n",
    "        print(f\"{split}: A total of {len(df.index)} examples.\")\n",
    "        print(df['label'].value_counts())\n",
    "        print()\n",
    "        js = df.to_json(orient=\"records\", indent=4)#lines=True\n",
    "        \n",
    "        with open(f'./new_data/{split}.json', 'w') as f:\n",
    "            f.write(js)\n",
    "            f.close()\n",
    "    return\n",
    "preprocess_logic(['./edu_train.csv','./edu_dev.csv','./edu_test.csv'])\n"
   ]
  },
  {
   "cell_type": "code",
   "execution_count": 2,
   "metadata": {},
   "outputs": [
    {
     "name": "stdout",
     "output_type": "stream",
     "text": [
      "Faulty Generalization\n",
      "Appeal to Emotion\n",
      "Ad Hominem\n",
      "Red Herring\n",
      "False Causality (Post Hoc Fallacy)\n",
      "Circular Reasoning\n",
      "Ad Populum\n",
      "Fallacy of Converse (Affirming the Consequent)\n",
      "False Dilemma (Excluding viable alternatives)\n",
      "Equivocation (Use of ambiguous language)\n",
      "Fallacy of Extension (Exaggeration)\n",
      "Attack Credibility (Doubt)\n",
      "Intentional (Intentionally wrong argument)\n"
     ]
    }
   ],
   "source": [
    "label_map = {\n",
    "        \"faulty generalization\" : \"Faulty Generalization\",\n",
    "        \"appeal to emotion\": \"Appeal to Emotion\",\n",
    "        \"ad hominem\": \"Ad Hominem\",\n",
    "        \"fallacy of relevance\": \"Red Herring\",\n",
    "        \"false causality\" : \"False Causality (Post Hoc Fallacy)\",\n",
    "        \"circular reasoning\" : \"Circular Reasoning\",\n",
    "        \"ad populum\": \"Ad Populum\",\n",
    "        \"fallacy of logic\": \"Fallacy of Converse (Affirming the Consequent)\",\n",
    "        \"false dilemma\": \"False Dilemma (Excluding viable alternatives)\",\n",
    "        \"equivocation\": \"Equivocation (Use of ambiguous language)\",\n",
    "        \"fallacy of extension\": \"Fallacy of Extension (Exaggeration)\",\n",
    "        \"fallacy of credibility\" : \"Attack Credibility (Doubt)\",\n",
    "        \"intentional\": \"Intentional (Intentionally wrong argument)\"\n",
    "    }\n",
    "for k, v in label_map.items():\n",
    "    print(v)"
   ]
  },
  {
   "cell_type": "code",
   "execution_count": 9,
   "metadata": {},
   "outputs": [
    {
     "name": "stdout",
     "output_type": "stream",
     "text": [
      "faulty generalization: ['Sample S is taken from population P. Sample S is a very small part of population P. Conclusion C is drawn from sample S and applied to population P.']\n",
      "false causality: ['A occurred, then B occurred.\\nTherefore, A caused B.\\n ']\n",
      "circular reasoning: ['X is true because of Y.\\n\\nY is true because of X.']\n",
      "ad populum: ['A lot of people believe X.Therefore, X must be true.']\n",
      "ad hominem: ['Person 1 is claiming Y.\\n\\nPerson 1 is a moron.\\n\\nTherefore, Y is not true.']\n",
      "fallacy of logic: ['If A is true, then B is true. B is true. Therefore, A is true.']\n",
      "appeal to emotion: ['Claim X is made without evidence. In place of evidence, emotion is used to convince the interlocutor that X is true.']\n",
      "false dilemma: ['Either X or Y is true.']\n",
      "equivocation: ['Term X is used to mean Y in the premise.\\nTerm X is used to mean Z in the conclusion.']\n",
      "fallacy of extension: ['Person 1 makes claim Y. Person 2 restates person 1’s claim (in a distorted way). Person 2 attacks the distorted version of the claim. Therefore, claim Y is false.']\n",
      "fallacy of relevance: ['It is claimed that X implies Y, whereas X is unrelated to Y']\n",
      "fallacy of credibility: ['Person 1 makes claim Y. Person 2 claims Person 1 is not a credible source regarding claim Y. Therefore, Y is false']\n",
      "miscellaneous: ['miscellaneous']\n",
      "intentional: ['Person 1 knows claim X is incorrect. They still claim that X is correct using an incorrect argument']\n"
     ]
    }
   ],
   "source": [
    "import pandas as pd\n",
    "mapping = pd.read_csv(\"./mappings.csv\")\n",
    "mapping[['Original Name', 'Understandable Name', 'Description']]# 'Description'\n",
    "for fal in mapping['Original Name'].to_list():\n",
    "    print(f\"{fal}: {mapping.loc[mapping['Original Name']==fal,'Logical Form' ].values}\")"
   ]
  },
  {
   "cell_type": "code",
   "execution_count": 17,
   "metadata": {},
   "outputs": [
    {
     "name": "stdout",
     "output_type": "stream",
     "text": [
      "['If A is true, then B is true. B is true. Therefore, A is true.']\n"
     ]
    }
   ],
   "source": [
    "print(mapping.loc[mapping['Original Name'] == 'fallacy of logic', 'Logical Form'].values)"
   ]
  },
  {
   "cell_type": "code",
   "execution_count": null,
   "metadata": {},
   "outputs": [],
   "source": []
  }
 ],
 "metadata": {
  "kernelspec": {
   "display_name": "phd",
   "language": "python",
   "name": "python3"
  },
  "language_info": {
   "codemirror_mode": {
    "name": "ipython",
    "version": 3
   },
   "file_extension": ".py",
   "mimetype": "text/x-python",
   "name": "python",
   "nbconvert_exporter": "python",
   "pygments_lexer": "ipython3",
   "version": "3.11.8"
  }
 },
 "nbformat": 4,
 "nbformat_minor": 2
}

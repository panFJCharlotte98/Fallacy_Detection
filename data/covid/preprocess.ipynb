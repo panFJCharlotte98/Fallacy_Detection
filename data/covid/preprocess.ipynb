{
 "cells": [
  {
   "cell_type": "code",
   "execution_count": 4,
   "metadata": {},
   "outputs": [
    {
     "name": "stdout",
     "output_type": "stream",
     "text": [
      "train: 97\n",
      "test: 26\n",
      "dev: 31\n",
      "total: 154\n",
      "{'Appeal to False Authority': 10,\n",
      " 'Cherry Picking': 13,\n",
      " 'Equivocation': 7,\n",
      " 'Evading the Burden of Proof': 14,\n",
      " 'False Analogy': 8,\n",
      " 'False Causality (Post Hoc Fallacy)': 19,\n",
      " 'Hasty Generalization': 7,\n",
      " 'No Fallacy': 62,\n",
      " 'Red Herring': 9,\n",
      " 'Straw Man': 5}\n"
     ]
    }
   ],
   "source": [
    "import json\n",
    "import os\n",
    "import pprint\n",
    "# Reader of CONLL file\n",
    "def preprocess_covid(splits, root):\n",
    "    label_map = {\n",
    "        'Cherry Picking': 'Cherry Picking',\n",
    "        'Evading the Burden of Proof': 'Evading the Burden of Proof',\n",
    "        'False Analogy': 'False Analogy',\n",
    "        'False Authority': 'Appeal to False Authority',\n",
    "        'False Cause': 'False Causality (Post Hoc Fallacy)',\n",
    "        'Post Hoc': 'False Causality (Post Hoc Fallacy)',\n",
    "        'Hasty Generalization': 'Hasty Generalization',\n",
    "        'Red Herring': 'Red Herring',\n",
    "        'Strawman': 'Straw Man',\n",
    "        'Vagueness': 'Equivocation',\n",
    "        'No Fallacy': 'No Fallacy'\n",
    "    }\n",
    "    all_data = []\n",
    "    id = 0 \n",
    "    fal_value_count = {}\n",
    "    for sp in splits:\n",
    "        arr = []\n",
    "        for f in os.listdir(os.path.join(root, sp)):\n",
    "            file = open(os.path.join(os.path.join(root, sp), f), 'r') \n",
    "            a = file.readline() \n",
    "            # The first line consist of headings of the record, so we will store it in an array and move to next line in input_file. \n",
    "            titles = [t.strip() for t in a.split('\\t')] \n",
    "            for line in file: \n",
    "                id += 1\n",
    "                label = label_map[f.split(\".tsv\")[0]]\n",
    "                if label not in fal_value_count:\n",
    "                    fal_value_count[label] = 1\n",
    "                else:\n",
    "                    fal_value_count[label] += 1\n",
    "                d = {'id': id, 'label': [label]} \n",
    "                one_data = line.split('\\t')\n",
    "                d['text'] = \" \".join(one_data[1].strip().replace(\"\\u2019\", \"'\").encode('ascii', errors='ignore').strip().decode('ascii').replace('\"\"\"', '').split())\n",
    "                d['claim_type'] = one_data[0].strip()\n",
    "                arr.append(d) \n",
    "                # we will append all the individual dictionaires into list and dump into file. \n",
    "        #json.dump(arr, open(f'{sp}.json', 'w'), indent=4)\n",
    "        print(f\"{sp}: {len(arr)}\")   \n",
    "        all_data.extend(arr)\n",
    "    json.dump(all_data, open(f'test.json', 'w'), indent=4)\n",
    "    print(f\"total: {len(all_data)}\")\n",
    "    print(pprint.pformat(fal_value_count))\n",
    "\n",
    "    return\n",
    "splits = ['train', 'test', 'dev']\n",
    "preprocess_covid(splits, root='./covid')"
   ]
  },
  {
   "cell_type": "code",
   "execution_count": null,
   "metadata": {},
   "outputs": [],
   "source": []
  }
 ],
 "metadata": {
  "kernelspec": {
   "display_name": "phd",
   "language": "python",
   "name": "python3"
  },
  "language_info": {
   "codemirror_mode": {
    "name": "ipython",
    "version": 3
   },
   "file_extension": ".py",
   "mimetype": "text/x-python",
   "name": "python",
   "nbconvert_exporter": "python",
   "pygments_lexer": "ipython3",
   "version": "3.11.8"
  }
 },
 "nbformat": 4,
 "nbformat_minor": 2
}

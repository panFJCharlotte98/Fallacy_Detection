{
 "cells": [
  {
   "cell_type": "code",
   "execution_count": 1,
   "metadata": {},
   "outputs": [
    {
     "name": "stdout",
     "output_type": "stream",
     "text": [
      "{'Ad Hominem': \"a fallacy when someone attacks the others' characters or motives instead of addressing the substance of their arguments.\", 'Appeal to Opinion of False Authority': \"a fallacy when someone attempts to argue or persuade by referring to the opinions or statements of another questionable authority who lacks sufficient credibility in the discussed matter because the authority's expertise may be inadequate/irrelevant or the authority is attributed a statement that has been tweaked.\", 'Red Herring': 'a fallacy when someone introduces irrelevant or confusing information in arguments to diverge attention from the main topic being discussed to irrelevant issues.', 'Emotional Language': 'a fallacy when someone attempts to argue or persuade by using strong emotionally charged language with apparent emotional inclination to arouse non-rational sentiments within the intended audience.', 'Hasty Generalization': 'a fallacy when someone makes generalizations based on partial/incomplete observations on a small sample of the whole populations that cannot represent or generalize to other situations legitimately.'}\n"
     ]
    }
   ],
   "source": [
    "import os\n",
    "os.environ['CUDA_VISIBLE_DEVICES'] = \"3\"\n",
    "import torch\n",
    "from transformers import (\n",
    "    LlamaConfig, LlamaForCausalLM, LlamaTokenizer\n",
    ")\n",
    "from utils.fallacy_utils import *\n",
    "from utils.format_utils import format_tokens\n",
    "import pprint\n",
    "B_INST, E_INST = \"[INST]\", \"[/INST]\"\n",
    "B_SYS, E_SYS = \"<<SYS>>\\n\", \"\\n<</SYS>>\\n\\n\"\n",
    "argo_fal = [\n",
    "'Appeal to Emotion',\n",
    "'Red Herring',\n",
    "'Hasty Generalization',\n",
    "'Ad Hominem',\n",
    "'Appeal to False Authority'\n",
    "]\n",
    "print(FALLACY_DEFINITIONS)"
   ]
  },
  {
   "cell_type": "code",
   "execution_count": 2,
   "metadata": {},
   "outputs": [
    {
     "data": {
      "application/vnd.jupyter.widget-view+json": {
       "model_id": "2dda864248f2478c97a2c8736a5da8df",
       "version_major": 2,
       "version_minor": 0
      },
      "text/plain": [
       "Loading checkpoint shards:   0%|          | 0/3 [00:00<?, ?it/s]"
      ]
     },
     "metadata": {},
     "output_type": "display_data"
    }
   ],
   "source": [
    "model_id = './models/llama2_hf/13bf'\n",
    "tokenizer = LlamaTokenizer.from_pretrained(model_id)\n",
    "kwargs = {'load_in_8bit': True, 'torch_dtype':torch.float16, 'low_cpu_mem_usage':True}#'device_map':'auto', \n",
    "model = LlamaForCausalLM.from_pretrained(model_id, **kwargs)"
   ]
  },
  {
   "cell_type": "code",
   "execution_count": 54,
   "metadata": {},
   "outputs": [],
   "source": [
    "kwargs = {\n",
    "    \"max_new_tokens\": 512,\n",
    "    \"do_sample\" : True,\n",
    "    \"top_p\": 0.9,#0.9, 0.5\n",
    "    \"temperature\": 0.75,#0.75, 0.5\n",
    "    \"use_cache\": True,\n",
    "    \"top_k\" : 50,#50,30\n",
    "    \"repetition_penalty\": 1.,\n",
    "    \"length_penalty\": 1\n",
    "}\n",
    "def MultiturnChat(tokenizer, model, prompt, chat_history):\n",
    "    #print(chat_history)\n",
    "    def format_prompt(prompt, chat_history):\n",
    "        SYSTEM_PROMPT = [\n",
    "            '''You are a knowledgable expert in detecting fallacies in arguments. \n",
    "            Please ensure that your responses are socially unbiased and positive in nature.\n",
    "            If you don't know the answer to a question, please don't share false information.\n",
    "            Answer the last question.''',\n",
    "            '''You are a knowledgable expert in analysing fallacies in arguments. \n",
    "            Please ensure that your responses are socially unbiased in nature.\n",
    "            Your response should not be lengthy.\n",
    "            Answer the last question.'''\n",
    "        ]\n",
    "        dialog = []\n",
    "        sys_pt = {\"role\": \"system\", \"content\": SYSTEM_PROMPT[1]}\n",
    "        usr_pt = {\"role\": \"user\", \"content\": prompt}\n",
    "        if chat_history:\n",
    "            dialog = [sys_pt] + chat_history + [usr_pt]\n",
    "        else:\n",
    "            dialog = [sys_pt] + [usr_pt]\n",
    "        chat_history = dialog\n",
    "        #print(chat_history)        \n",
    "        formatted_prompt = format_tokens(None, [dialog], tokenizer)[0]\n",
    "        if dialog[0][\"role\"] == \"system\":\n",
    "            dialog = [\n",
    "            {\n",
    "                \"role\": dialog[1][\"role\"],\n",
    "                \"content\": B_SYS\n",
    "                + dialog[0][\"content\"]\n",
    "                + E_SYS\n",
    "                + dialog[1][\"content\"],\n",
    "            }\n",
    "            ] + dialog[2:]\n",
    "        assert all([msg[\"role\"] == \"user\" for msg in dialog[::2]]) and all([msg[\"role\"] == \"assistant\" for msg in dialog[1::2]]), (\n",
    "            \"model only supports 'system','user' and 'assistant' roles, \"\n",
    "            \"starting with user and alternating (u/a/u/a/u...)\")\n",
    "        \"\"\"\n",
    "        Please verify that your tokenizer support adding \"[INST]\", \"[/INST]\" to your inputs.\n",
    "        Here, we are adding it manually.\n",
    "        \"\"\"\n",
    "        formatted_dialog = [\n",
    "            f\"{B_INST} {(prompt['content']).strip()} {E_INST} {(answer['content']).strip()} \"\n",
    "            for prompt, answer in zip(dialog[::2], dialog[1::2])\n",
    "        ]\n",
    "        \n",
    "        assert (\n",
    "            dialog[-1][\"role\"] == \"user\"\n",
    "        ), f\"Last message must be from user, got {dialog[-1]['role']}\"\n",
    "        formatted_dialog += [f\"{B_INST} {(dialog[-1]['content']).strip()} {E_INST}\"]\n",
    "            \n",
    "        return \" \".join(formatted_dialog), chat_history\n",
    "    \n",
    "    formatted_prompt, chat_history = format_prompt(prompt, chat_history)\n",
    "    model_input = tokenizer(formatted_prompt, return_tensors=\"pt\").to(\"cuda\")\n",
    "    model.eval()\n",
    "    with torch.no_grad():\n",
    "        response = tokenizer.decode(model.generate(**model_input, **kwargs)[0], skip_special_tokens=True)\n",
    "        res = response.split(E_INST)\n",
    "        print(\"\\n\".join(res[:-1]))\n",
    "        print()\n",
    "        print(pprint.pformat(res[-1]))\n",
    "        chat_history = chat_history[1:] + [{\"role\":\"assistant\", \"content\":res[-1]}]\n",
    "        return chat_history"
   ]
  },
  {
   "cell_type": "code",
   "execution_count": 74,
   "metadata": {},
   "outputs": [],
   "source": [
    "FALLACY_DEFINITIONS = {\n",
    "\"Ad Hominem\": \"a fallacy when someone attacks the others' characters or motives instead of addressing the substance of their arguments.\",\n",
    "\"Appeal to Opinions of False Authority\": \"a fallacy when someone attempts to argue or persuade by referring to the opinions or statements of another questionable authority figure who lacks sufficient credibility in the discussed matter because the authority's expertise may be inadequate/irrelevant or the authority is attributed a statement that has been tweaked.\",\n",
    "\"Red Herring\": \"a fallacy when someone introduces irrelevant or confusing information in arguments to diverge attention from the main topic being discussed to irrelevant issues.\",\n",
    "\"Appeal to Emotion\": \"a fallacy when someone attempts to argue or persuade by using emotive language to arouse non-rational sentiments within the intended audience.\",\n",
    "\"Hasty Generalization\": \"a fallacy when someone makes generalizations based on partial/incomplete observations on a small sample of the whole populations that cannot represent or generalize to other situations legitimately.\"\n",
    "}\n",
    "argo_fal = list(FALLACY_DEFINITIONS.keys())\n",
    "BASELINE_TEMPLATES =[\n",
    "'''Review the definitions of these fallacies,\n",
    "{definitions}\n",
    "Review the conversation,\n",
    "{dialog}\n",
    "Based on all your previous analysis, determine which of the fallacies defined above is most dominantly present in B's argument replied to A?\n",
    "Output your answer in JSON format {{\"fallacy\": name_of_the_fallacy, \"explanation\": in_a_sentence_or_two}}. If none of the fallacies is found, output {{\"fallacy\": \"No Fallacy\", \"explanation\": in_a_sentence_or_two}}. Only output JSON.\n",
    "''',\n",
    "'''Based on the following definitions of fallacies,\n",
    "{definitions}\n",
    "Given the conversation below,\n",
    "{dialog}\n",
    "Determine whether any of the fallacies defined above is present in B's argument replied to A?\n",
    "Output your answer in JSON format {{\"fallacy\": name_of_the_fallacy, \"explanation\": in_a_sentence_or_two}}. If none of the fallacies is found, output {{\"fallacy\": \"No Fallacy\", \"explanation\": in_a_sentence_or_two}}. Only output JSON.\n",
    "'''\n",
    "]\n",
    "#about Hasty Generalization, Appeal to Emotion, Ad Hominem, Red Herring and Appeal to False Authority\n",
    "def get_USER_PROMPTS(qa):\n",
    "    #ASK_SINGLE_FALLACY = \"\"\"According to the definition of {name}: \"{defi}\", considering B's stance, determine whether this fallacy is present or absent in B's argument.\"\"\"\n",
    "    #ASK_SINGLE_FALLACY = \"\"\"According to the definition of {name}: \"{defi}\", review the conversation again \"{dialog}\", is this fallacy present in B's argument?\"\"\"\n",
    "    ASK_SINGLE_FALLACY = \"\"\"According to the definition of {name}: \"{defi}\", given the conversation below: \\n{dialog}\\n, is the fallacy defined above present or absent in B's argument?\"\"\"\n",
    "    def_str = \"\\n\".join([f\"{str(i+1)}. {fal} is {FALLACY_DEFINITIONS[fal]}\" for i, fal in enumerate(argo_fal)]) \n",
    "    USER_PROMPTS = {\n",
    "    #0:\"\"\"Given the conversation below,\\n{dialog}\\nIs B in favor of or against the topic proposed by A?\"\"\".format(dialog=qa),\n",
    "    #5:\"\"\"Based on all your previous analysis, output all the fallacy/fallacies present in B's argument in JSON format {{\"fallacy\": [name(s)_of_the_fallacy]}}. If none of the fallacies is present, output {{\"fallacy\": \"No Fallacy\"}}. Only output JSON.\"\"\"\n",
    "    #5:\"\"\"Based on all your previous analysis, determine which of the fallacies defined above is dominantly present in B's argument replied to A? Output the fallacy in JSON format {{\"fallacy\": name_of_the_fallacy}}. If none of the fallacies is present, output {{\"fallacy\": \"No Fallacy\"}}. Only output JSON.\"\"\"\n",
    "    5: BASELINE_TEMPLATES[1].format(definitions=def_str, dialog=qa)\n",
    "    }#1:\"\"\"Considering B's stance, is it logically sound for B to draw an argument like that?\"\"\",\n",
    "    def_questions = {}\n",
    "    for i, (name, def_) in enumerate(FALLACY_DEFINITIONS.items()):\n",
    "        def_questions[i] = ASK_SINGLE_FALLACY.format(name=name, defi=def_, dialog=qa)\n",
    "    USER_PROMPTS.update(def_questions)\n",
    "    return USER_PROMPTS"
   ]
  },
  {
   "cell_type": "code",
   "execution_count": 75,
   "metadata": {},
   "outputs": [
    {
     "name": "stdout",
     "output_type": "stream",
     "text": [
      "{5: 'Based on all your previous analysis, determine which of the fallacies defined above is dominantly present in B\\'s argument replied to A? Output the fallacy in JSON format {{\"fallacy\": name_of_the_fallacy}}. If none of the fallacies is present, output {{\"fallacy\": \"No Fallacy\"}}. Only output JSON.', 0: 'According to the definition of Ad Hominem: \"a fallacy when someone attacks the others\\' characters or motives instead of addressing the substance of their arguments.\", given the conversation below: \\nA: Is it justified to develop nuclear energy for commercial use?\\nB: The green party in Germany has the opinion, that nuclear reactors are bad for us. It is not ok\\n, is the fallacy defined above present or absent in B\\'s argument?', 1: 'According to the definition of Appeal to Opinions of False Authority: \"a fallacy when someone attempts to argue or persuade by referring to the opinions or statements of another questionable authority figure who lacks sufficient credibility in the discussed matter because the authority\\'s expertise may be inadequate/irrelevant or the authority is attributed a statement that has been tweaked.\", given the conversation below: \\nA: Is it justified to develop nuclear energy for commercial use?\\nB: The green party in Germany has the opinion, that nuclear reactors are bad for us. It is not ok\\n, is the fallacy defined above present or absent in B\\'s argument?', 2: 'According to the definition of Red Herring: \"a fallacy when someone introduces irrelevant or confusing information in arguments to diverge attention from the main topic being discussed to irrelevant issues.\", given the conversation below: \\nA: Is it justified to develop nuclear energy for commercial use?\\nB: The green party in Germany has the opinion, that nuclear reactors are bad for us. It is not ok\\n, is the fallacy defined above present or absent in B\\'s argument?', 3: 'According to the definition of Appeal to Emotion: \"a fallacy when someone attempts to argue or persuade by using emotive language to arouse non-rational sentiments within the intended audience.\", given the conversation below: \\nA: Is it justified to develop nuclear energy for commercial use?\\nB: The green party in Germany has the opinion, that nuclear reactors are bad for us. It is not ok\\n, is the fallacy defined above present or absent in B\\'s argument?', 4: 'According to the definition of Hasty Generalization: \"a fallacy when someone makes generalizations based on partial/incomplete observations on a small sample of the whole populations that cannot represent or generalize to other situations legitimately.\", given the conversation below: \\nA: Is it justified to develop nuclear energy for commercial use?\\nB: The green party in Germany has the opinion, that nuclear reactors are bad for us. It is not ok\\n, is the fallacy defined above present or absent in B\\'s argument?'}\n"
     ]
    }
   ],
   "source": [
    "# Test examples\n",
    "qa0=\"A: Is democracy the best system available?\\nB: good point. why not\" # no fallacy??\n",
    "qa1=\"A: Is veganism the best for our bodies?\\nB: humans are omnivores, we need both meat and vegetables.\" #ad homien??\n",
    "qa2=\"A: Has anyone been on the moon?\\nB: The moon is so far away, we should focus on our society.\" # red hering\n",
    "qa3 = \"A: Is global warming really an issue?\\nB: Yes, all the polar-bears are dying, and we are next.\"\n",
    "qa4 = \"A: Is there a good reason for the American war on terror?\\nB: If you fight once you will never stop fighting. Never start!\"\n",
    "qa5 = \"A: Is it justified to develop nuclear energy for commercial use?\\nB: The green party in Germany has the opinion, that nuclear reactors are bad for us. It is not ok\" # false authority\n",
    "qa6 = '''A: Should smoking at home be illegal?\\nB: Home is the place of love and peace, how can you fog it with smoke?'''#appeal to emotion\n",
    "qa7 = \"A: Do we need a global environment task force?\\nB: It is people like you who force us normal people into the dictatorship of unnecessary organizations.\" #ad hominem\n",
    "qa8 = \"A: Is it effective to censor parts of the media?\\nB: It is effective to censor parts of the media, because you never know who is watching.\"\n",
    "qa9 = \"A: Do we need a global environment task force?\\nB: The global taskforce for human rights is doing a good job. Thats why we need one for environment,  too.\"\n",
    "qa10 = \"A: Do we need a global environment task force?\\nB: Yes, we need. There're some important enviroment issues that need global efforts to address.\"\n",
    "qa11 = \"A: Should animals have special rights?\\nB: Regarding this argumentation you have the IQ of an insect. Do you think you need special rights?\" #ad hominem\n",
    "qa_emotion = \"A: Is nuclear power a reasonable energy source?\\nB: Nuclear power was the reason of death of millions of people. It should vanish from this planet.\"\n",
    "\n",
    "prompts = get_USER_PROMPTS(qa5)\n",
    "print(prompts)"
   ]
  },
  {
   "cell_type": "code",
   "execution_count": 76,
   "metadata": {},
   "outputs": [],
   "source": [
    "chat_history=[]"
   ]
  },
  {
   "cell_type": "code",
   "execution_count": 82,
   "metadata": {},
   "outputs": [
    {
     "name": "stdout",
     "output_type": "stream",
     "text": [
      "[INST] <<SYS>>\n",
      "You are a knowledgable expert in analysing fallacies in arguments. \n",
      "            Please ensure that your responses are socially unbiased in nature.\n",
      "            Your response should not be lengthy.\n",
      "            Answer the last question.\n",
      "<</SYS>>\n",
      "\n",
      "According to the definition of Ad Hominem: \"a fallacy when someone attacks the others' characters or motives instead of addressing the substance of their arguments.\", given the conversation below: \n",
      "A: Is it justified to develop nuclear energy for commercial use?\n",
      "B: The green party in Germany has the opinion, that nuclear reactors are bad for us. It is not ok\n",
      ", is the fallacy defined above present or absent in B's argument? \n",
      " Based on the conversation provided, the fallacy defined above (Ad Hominem) is absent in B's argument. B is not attacking the character or motives of the Green Party in Germany, but rather presenting their opinion as a reason for why nuclear energy may not be justified for commercial use. B's argument is addressing the substance of the issue, rather than attacking the character of the opposing party. Therefore, the Ad Hominem fallacy is not present in B's argument.  [INST] According to the definition of Appeal to Opinions of False Authority: \"a fallacy when someone attempts to argue or persuade by referring to the opinions or statements of another questionable authority figure who lacks sufficient credibility in the discussed matter because the authority's expertise may be inadequate/irrelevant or the authority is attributed a statement that has been tweaked.\", given the conversation below: \n",
      "A: Is it justified to develop nuclear energy for commercial use?\n",
      "B: The green party in Germany has the opinion, that nuclear reactors are bad for us. It is not ok\n",
      ", is the fallacy defined above present or absent in B's argument? \n",
      " Based on the conversation provided, the fallacy defined above (Appeal to Opinions of False Authority) is present in B's argument. B is attempting to argue that nuclear energy is not justified for commercial use by referring to the opinion of the Green Party in Germany, but the party lacks sufficient credibility in the discussed matter (nuclear energy) as their expertise is in environmental issues, not nuclear energy. Therefore, the Appeal to Opinions of False Authority fallacy is present in B's argument.  [INST] According to the definition of Red Herring: \"a fallacy when someone introduces irrelevant or confusing information in arguments to diverge attention from the main topic being discussed to irrelevant issues.\", given the conversation below: \n",
      "A: Is it justified to develop nuclear energy for commercial use?\n",
      "B: The green party in Germany has the opinion, that nuclear reactors are bad for us. It is not ok\n",
      ", is the fallacy defined above present or absent in B's argument? \n",
      " Based on the conversation provided, the fallacy defined above (Red Herring) is present in B's argument. B introduces the opinion of the Green Party in Germany as a way to divert attention from the main topic being discussed (whether it is justified to develop nuclear energy for commercial use) to an irrelevant issue (the party's opinion on nuclear reactors). Therefore, the Red Herring fallacy is present in B's argument.  [INST] According to the definition of Appeal to Emotion: \"a fallacy when someone attempts to argue or persuade by using emotive language to arouse non-rational sentiments within the intended audience.\", given the conversation below: \n",
      "A: Is it justified to develop nuclear energy for commercial use?\n",
      "B: The green party in Germany has the opinion, that nuclear reactors are bad for us. It is not ok\n",
      ", is the fallacy defined above present or absent in B's argument? \n",
      " Based on the conversation provided, the fallacy defined above (Appeal to Emotion) is present in B's argument. B uses the phrase \"It is not ok\" to arouse non-rational sentiments within the intended audience (A) and to persuade them to accept their opinion without providing any logical reasoning or evidence to support it. Therefore, the Appeal to Emotion fallacy is present in B's argument.  [INST] According to the definition of Hasty Generalization: \"a fallacy when someone makes generalizations based on partial/incomplete observations on a small sample of the whole populations that cannot represent or generalize to other situations legitimately.\", given the conversation below: \n",
      "A: Is it justified to develop nuclear energy for commercial use?\n",
      "B: The green party in Germany has the opinion, that nuclear reactors are bad for us. It is not ok\n",
      ", is the fallacy defined above present or absent in B's argument? \n",
      " Based on the conversation provided, the fallacy defined above (Hasty Generalization) is present in B's argument. B makes a generalization about nuclear reactors being bad for the environment based on the opinion of the Green Party in Germany, but this opinion is not representative of the whole population and cannot be generalized to other situations. Therefore, the Hasty Generalization fallacy is present in B's argument.  [INST] Based on all your previous analysis, determine which of the fallacies defined above is dominantly present in B's argument replied to A? Output the fallacy in JSON format {{\"fallacy\": name_of_the_fallacy}}. If none of the fallacies is present, output {{\"fallacy\": \"No Fallacy\"}}. Only output JSON. \n",
      "\n",
      "' {\\n\"fallacy\": \"Hasty Generalization\"\\n}'\n"
     ]
    }
   ],
   "source": [
    "chat_history = MultiturnChat(tokenizer, model, prompts[5], chat_history=chat_history)"
   ]
  },
  {
   "cell_type": "code",
   "execution_count": 12,
   "metadata": {},
   "outputs": [
    {
     "name": "stdout",
     "output_type": "stream",
     "text": [
      "[INST] <<SYS>>\n",
      "You are a knowledgable expert in analysing fallacies in arguments. \n",
      "            Please ensure that your responses are socially unbiased in nature.\n",
      "            If you don't know the answer to a question, please don't share false information.\n",
      "            Your response should not be lengthy.\n",
      "            Answer the last question.\n",
      "<</SYS>>\n",
      "\n",
      "\n",
      "According to the definition of Emotional Language: \"A fallacy when someone tries to to persuade his stance using emotive language to arouse non-rational emotions within the intended audience.,\n",
      "given a conversation, determine whether this fallacy is present or absent in B's argument and output in JSON format.\n",
      "Example 1\n",
      "Conversation:\n",
      "A: Is nuclear power a reasonable energy source?\n",
      "B: Nuclear power was the reason of death of millions of people. It should vanish from this planet.\n",
      "Answer:\n",
      "{\"decision\": \"Present\", \"explanation\": \"B's argument does commit the fallacy of Emotional Language. B attempts to arouse potential negative emotions (e.g., fear, anger, and aversion) towards nuclear power within people by stating that nuclear power has caused many deaths. B’s argument is an emotive claim that is not supported by evidence, hence it is not a reasoned argument against the use of nuclear power.\"}\n",
      "Example 2\n",
      "A: Do we need a global environment task force?\n",
      "B: The global taskforce for human rights is doing a good job. Thats why we need one for environment, too.\n",
      "Answer: \n",
      "{\"decision\": \"Absent\", \"explanation\": \"B's argument does not commit the fallacy of Emotional Language. B's argument does not employ emotionally charged language to persuade his stance. Therefore, the Emotional Language fallacy is absent.\"}\n",
      "---------------\n",
      "Conversation:\n",
      "A: Is it justified to develop nuclear energy for commercial use?\n",
      "B: The green party in Germany has the opinion, that nuclear reactors are bad for us. It is not ok \n",
      "\n",
      "('  Sure, I can help you with that!\\n'\n",
      " '\\n'\n",
      " \"Based on the conversation you provided, here's my analysis:\\n\"\n",
      " '\\n'\n",
      " '{\"decision\": \"Present\", \"explanation\": \"B\\'s argument does commit the '\n",
      " 'fallacy of Emotional Language. B is using the opinion of the Green Party in '\n",
      " 'Germany as an emotional appeal to persuade their stance, rather than '\n",
      " \"providing a reasoned argument. The use of the phrase 'it is not ok' is also \"\n",
      " 'emotionally charged and does not contribute to a reasoned discussion.\"}')\n"
     ]
    }
   ],
   "source": [
    "chat_history = MultiturnChat(tokenizer, model, prompt_emo, chat_history=chat_history)"
   ]
  },
  {
   "cell_type": "code",
   "execution_count": 10,
   "metadata": {},
   "outputs": [],
   "source": [
    "prompt_emo = '''\n",
    "According to the definition of Emotional Language: \"A fallacy when someone tries to to persuade his stance using emotive language to arouse non-rational emotions within the intended audience.,\n",
    "given a conversation, determine whether this fallacy is present or absent in B's argument and output in JSON format.\n",
    "Example 1\n",
    "Conversation:\n",
    "A: Is nuclear power a reasonable energy source?\\nB: Nuclear power was the reason of death of millions of people. It should vanish from this planet.\n",
    "Answer:\n",
    "{{\"decision\": \"Present\", \"explanation\": \"B's argument does commit the fallacy of Emotional Language. B attempts to arouse potential negative emotions (e.g., fear, anger, and aversion) towards nuclear power within people by stating that nuclear power has caused many deaths. B’s argument is an emotive claim that is not supported by evidence, hence it is not a reasoned argument against the use of nuclear power.\"}}\n",
    "Example 2\n",
    "A: Do we need a global environment task force?\\nB: The global taskforce for human rights is doing a good job. Thats why we need one for environment, too.\n",
    "Answer: \n",
    "{{\"decision\": \"Absent\", \"explanation\": \"B's argument does not commit the fallacy of Emotional Language. B's argument does not employ emotionally charged language to persuade his stance. Therefore, the Emotional Language fallacy is absent.\"}}\n",
    "---------------\n",
    "Conversation:\n",
    "{dialog}\n",
    "'''.format(dialog=qa5)"
   ]
  },
  {
   "cell_type": "code",
   "execution_count": null,
   "metadata": {},
   "outputs": [],
   "source": [
    "print(chat_history)"
   ]
  },
  {
   "cell_type": "code",
   "execution_count": 2,
   "metadata": {},
   "outputs": [],
   "source": [
    "ASK_SINGLE_FALLACY = \"\"\"According to the definition of {name}: \"{defi}\", given the conversation below: \\n\"[]\"\\n, is the fallacy defined above present or absent in B's argument?\"\"\""
   ]
  },
  {
   "cell_type": "code",
   "execution_count": 4,
   "metadata": {},
   "outputs": [
    {
     "data": {
      "text/plain": [
       "'According to the definition of a: \"b\", given the conversation below: \\n\"sdfadff\"\\n, is the fallacy defined above present or absent in B\\'s argument?'"
      ]
     },
     "execution_count": 4,
     "metadata": {},
     "output_type": "execute_result"
    }
   ],
   "source": [
    "tp = ASK_SINGLE_FALLACY.format(name=\"a\", defi=\"b\")\n",
    "if \"\\\"[]\\\"\" in tp:\n",
    "    tp = tp.replace(\"\\\"[]\\\"\", \"\\\"{dialog}\\\"\")\n",
    "usr_ct = tp.format(dialog='sdfadff') if '{dialog}' in tp else tp\n",
    "usr_ct"
   ]
  }
 ],
 "metadata": {
  "kernelspec": {
   "display_name": "phd",
   "language": "python",
   "name": "python3"
  },
  "language_info": {
   "codemirror_mode": {
    "name": "ipython",
    "version": 3
   },
   "file_extension": ".py",
   "mimetype": "text/x-python",
   "name": "python",
   "nbconvert_exporter": "python",
   "pygments_lexer": "ipython3",
   "version": "3.11.7"
  }
 },
 "nbformat": 4,
 "nbformat_minor": 2
}
